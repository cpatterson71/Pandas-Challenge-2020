{
 "cells": [
  {
   "cell_type": "code",
   "execution_count": null,
   "metadata": {},
   "outputs": [],
   "source": [
    "import pandas as pd\n",
    "import csv\n",
    "import path\n",
    "import os"
   ]
  },
  {
   "cell_type": "code",
   "execution_count": null,
   "metadata": {},
   "outputs": [],
   "source": [
    "#pulled file 1\n",
    "file = \"Resources/schools_complete.csv\"\n",
    "schools_complete_df = pd.read_csv(file)\n",
    "schools_complete_df.head()"
   ]
  },
  {
   "cell_type": "code",
   "execution_count": null,
   "metadata": {},
   "outputs": [],
   "source": [
    "#pulled file 2\n",
    "file2 = \"Resources/students_complete.csv\"\n",
    "students_complete_df = pd.read_csv(file2)\n",
    "students_complete_df.head()"
   ]
  },
  {
   "cell_type": "code",
   "execution_count": null,
   "metadata": {},
   "outputs": [],
   "source": [
    "# created merge dataframe\n",
    "merge_students_schools_df = pd.merge(schools_complete_df, students_complete_df, on=\"school_name\")\n",
    "merge_students_schools_df.head()"
   ]
  },
  {
   "cell_type": "code",
   "execution_count": null,
   "metadata": {},
   "outputs": [],
   "source": [
    "merge_students_schools_df.count()"
   ]
  },
  {
   "cell_type": "code",
   "execution_count": null,
   "metadata": {},
   "outputs": [],
   "source": [
    "merge_students_schools_df.dtypes"
   ]
  },
  {
   "cell_type": "code",
   "execution_count": null,
   "metadata": {},
   "outputs": [],
   "source": [
    "#defined total schools\n",
    "Total_Schools = len(merge_students_schools_df['school_name'].unique())\n",
    "Total_Schools"
   ]
  },
  {
   "cell_type": "code",
   "execution_count": null,
   "metadata": {},
   "outputs": [],
   "source": [
    "school_name_df = schools_complete_df[[\"school_name\", \"type\"]]\n",
    "Type_schools = school_name_df.set_index([\"school_name\"])[\"type\"]\n",
    "Type_schools"
   ]
  },
  {
   "cell_type": "code",
   "execution_count": null,
   "metadata": {},
   "outputs": [],
   "source": [
    "#Total Students\n",
    "Total_Students = merge_students_schools_df['student_name'].count()\n",
    "Total_Students"
   ]
  },
  {
   "cell_type": "code",
   "execution_count": null,
   "metadata": {},
   "outputs": [],
   "source": [
    "#Total Budget\n",
    "Total_Budget = sum(merge_students_schools_df[\"budget\"])\n",
    "Total_Budget"
   ]
  },
  {
   "cell_type": "code",
   "execution_count": null,
   "metadata": {},
   "outputs": [],
   "source": [
    "#Average math score\n",
    "Average_Math_Score =round(merge_students_schools_df[\"math_score\"].mean(), 2)\n",
    "Average_Math_Score"
   ]
  },
  {
   "cell_type": "code",
   "execution_count": null,
   "metadata": {},
   "outputs": [],
   "source": [
    "#average reading score\n",
    "Average_Reading_Score = round(merge_students_schools_df[\"reading_score\"].mean(),2)\n",
    "Average_Reading_Score"
   ]
  },
  {
   "cell_type": "code",
   "execution_count": null,
   "metadata": {},
   "outputs": [],
   "source": [
    "merge_students_schools_df.columns"
   ]
  },
  {
   "cell_type": "code",
   "execution_count": null,
   "metadata": {},
   "outputs": [],
   "source": [
    "passing_math = merge_students_schools_df[merge_students_schools_df[\"math_score\"] >= 60].count()\n",
    "passing_count = passing_math[\"student_name\"]\n",
    "passing_count"
   ]
  },
  {
   "cell_type": "code",
   "execution_count": null,
   "metadata": {},
   "outputs": [],
   "source": [
    "#percentage of students with passing math = number with passing grade/total number of students *100\n",
    "percentage_of_passing_grade = round((passing_count / Total_Students)*100, 2)\n",
    "percentage_of_passing_grade"
   ]
  },
  {
   "cell_type": "code",
   "execution_count": null,
   "metadata": {},
   "outputs": [],
   "source": [
    "Per_student_budget = round((Total_Budget/Total_Students)*100, 2)\n",
    "Per_student_budget"
   ]
  },
  {
   "cell_type": "code",
   "execution_count": null,
   "metadata": {},
   "outputs": [],
   "source": [
    "#percentage pass Reading\n",
    "passing_read = merge_students_schools_df[merge_students_schools_df[\"reading_score\"] >= 60].count()\n",
    "passing_count2 = passing_read[\"student_name\"]\n",
    "passing_count2  "
   ]
  },
  {
   "cell_type": "code",
   "execution_count": null,
   "metadata": {},
   "outputs": [],
   "source": [
    "#percentage overall passing math and reading\n",
    "percentage_of_passing_read = (passing_count2 / Total_Students)*100\n",
    "percentage_of_passing_read"
   ]
  },
  {
   "cell_type": "code",
   "execution_count": null,
   "metadata": {},
   "outputs": [],
   "source": [
    "passing_both = merge_students_schools_df[(merge_students_schools_df[\"math_score\"] >= 60) | (\n",
    "                merge_students_schools_df[\"reading_score\"] >= 60)].count()\n",
    "passing_both"
   ]
  },
  {
   "cell_type": "code",
   "execution_count": null,
   "metadata": {},
   "outputs": [],
   "source": [
    "passing_count3 = passing_both[\"student_name\"]\n",
    "passing_count3"
   ]
  },
  {
   "cell_type": "code",
   "execution_count": null,
   "metadata": {},
   "outputs": [],
   "source": [
    "Total_passing_reading_and_math_df=(passing_count3/Total_Students)*100\n",
    "Total_passing_reading_and_math_df"
   ]
  },
  {
   "cell_type": "code",
   "execution_count": null,
   "metadata": {},
   "outputs": [],
   "source": [
    "#create summary dataframe (table)\n",
    "School_District_Summary = pd.DataFrame({\"Total Schools\": [Total_Schools],\n",
    "                                       \"Total Students\": [Total_Students],\n",
    "                                       \"Total School Budget\": [Total_Budget],\n",
    "                                       \"Per Student Budget\": [Per_student_budget],\n",
    "                                       \"Average Math Score\": [Average_Math_Score],\n",
    "                                       \"Average Reading Score\": [Average_Reading_Score],\n",
    "                                       \"% Passing Math\": [percentage_of_passing_grade],\n",
    "                                       \"% Passing Reading\": [percentage_of_passing_read],\n",
    "                                       \"% Passing Reading and Math\": [Total_passing_reading_and_math_df]})\n",
    "\n",
    "School_District_Summary['Total School Budget'] = School_District_Summary['Total School Budget'].map('${:,.0f}'.format)\n",
    "School_District_Summary['Per Student Budget'] = School_District_Summary['Per Student Budget'].map('${:,.0f}'.format)\n",
    "School_District_Summary['% Passing Math'] = School_District_Summary['% Passing Math'].map('{:.0f}%'.format)\n",
    "School_District_Summary['% Passing Reading'] = School_District_Summary['% Passing Reading'].map('{:.0f}%'.format)\n",
    "School_District_Summary['% Passing Reading and Math'] = School_District_Summary['% Passing Reading and Math'].map('{:.0f}%'.format)\n",
    "\n",
    "School_District_Summary"
   ]
  },
  {
   "cell_type": "code",
   "execution_count": null,
   "metadata": {},
   "outputs": [],
   "source": [
    "#number of students per school\n",
    "per_school_counts = merge_students_schools_df[\"school_name\"].value_counts()\n",
    "per_school_counts"
   ]
  },
  {
   "cell_type": "code",
   "execution_count": null,
   "metadata": {},
   "outputs": [],
   "source": [
    "#budget per school\n",
    "school_budgets= merge_students_schools_df.groupby(['school_name']).mean()['budget']\n",
    "school_budgets"
   ]
  },
  {
   "cell_type": "code",
   "execution_count": null,
   "metadata": {},
   "outputs": [],
   "source": [
    "#budget per student by school\n",
    "per_student_budgets=round((school_budgets/per_school_counts), 2)\n",
    "per_student_budgets"
   ]
  },
  {
   "cell_type": "code",
   "execution_count": null,
   "metadata": {},
   "outputs": [],
   "source": [
    "#average math per school\n",
    "average_math= merge_students_schools_df.groupby(['school_name']).mean()['math_score']\n",
    "average_math"
   ]
  },
  {
   "cell_type": "code",
   "execution_count": null,
   "metadata": {},
   "outputs": [],
   "source": [
    "#average reading per school\n",
    "average_reading= merge_students_schools_df.groupby(['school_name']).mean()['reading_score']\n",
    "average_reading"
   ]
  },
  {
   "cell_type": "code",
   "execution_count": null,
   "metadata": {},
   "outputs": [],
   "source": [
    "# of students passing math score above 60\n",
    "school_passing_math = merge_students_schools_df[merge_students_schools_df[\"math_score\"] >= 60].groupby(\"school_name\").count()[\"student_name\"]\n",
    "school_passing_math"
   ]
  },
  {
   "cell_type": "code",
   "execution_count": null,
   "metadata": {},
   "outputs": [],
   "source": [
    "# of students with passing grade above 60\n",
    "school_passing_reading =  merge_students_schools_df[merge_students_schools_df[\"reading_score\"] >= 60].groupby(\"school_name\").count()[\"student_name\"]\n",
    "school_passing_reading"
   ]
  },
  {
   "cell_type": "code",
   "execution_count": null,
   "metadata": {},
   "outputs": [],
   "source": [
    "percent_passing_math= round((school_passing_math/per_school_counts)*100, 2)\n",
    "percent_passing_math"
   ]
  },
  {
   "cell_type": "code",
   "execution_count": null,
   "metadata": {},
   "outputs": [],
   "source": [
    "#percent passing reading\n",
    "percent_passing_reading= round((school_passing_reading/per_school_counts)*100, 2)\n",
    "percent_passing_reading"
   ]
  },
  {
   "cell_type": "code",
   "execution_count": null,
   "metadata": {},
   "outputs": [],
   "source": [
    "#overall passing rate per school\n",
    "overall_passing_rate= round((percent_passing_reading+percent_passing_math)/2, 2)\n",
    "overall_passing_rate"
   ]
  },
  {
   "cell_type": "code",
   "execution_count": null,
   "metadata": {},
   "outputs": [],
   "source": [
    "#complete summary by school\n",
    "School_Summary_df = pd.DataFrame({\"School Type\": [Type_schools],\n",
    "                               \"Total Students\": [per_school_counts],\n",
    "                              \"Total School Budget\": [school_budgets],\n",
    "                              \"Per Student Budget\": [per_student_budgets],\n",
    "                              \"Average Math Score\": [average_math],\n",
    "                              \"Average Reading Score\": [average_reading],\n",
    "                              \"% Passing Math\": [percent_passing_math],\n",
    "                              \"% Passing Reading\": [percent_passing_reading],\n",
    "                              \"Overall Passing Rate\": [overall_passing_rate]})\n",
    "\n",
    "School_Summary_df"
   ]
  },
  {
   "cell_type": "code",
   "execution_count": null,
   "metadata": {},
   "outputs": [],
   "source": [
    "#Top five Schools\n",
    "Top_Five_Schools = School_Summary_df.sort_values([\"Overall Passing Rate\"], ascending = False)\n",
    "Top_Five_Schools.head(5)"
   ]
  },
  {
   "cell_type": "code",
   "execution_count": null,
   "metadata": {},
   "outputs": [],
   "source": [
    "#Bottom Five Schools\n",
    "Bottom_Five_Schools = School_Summary_df.sort_values([\"Overall Passing Rate\"], ascending = True)\n",
    "Bottom_Five_Schools.head(5)"
   ]
  },
  {
   "cell_type": "code",
   "execution_count": null,
   "metadata": {},
   "outputs": [],
   "source": [
    "# nineth grade scores\n",
    "nineth_grade_score_math = merge_students_schools_df[merge_students_schools_df[\"grade\"] == \"9th\"].groupby(\"school_name\").mean()[\"math_score\"]\n",
    "nineth_grade_score_math"
   ]
  },
  {
   "cell_type": "code",
   "execution_count": null,
   "metadata": {},
   "outputs": [],
   "source": [
    "#10th grade scores\n",
    "tenth_grade_score_math =merge_students_schools_df[merge_students_schools_df[\"grade\"] == \"10th\"].groupby(\"school_name\").mean()[\"math_score\"]\n",
    "tenth_grade_score_math"
   ]
  },
  {
   "cell_type": "code",
   "execution_count": null,
   "metadata": {},
   "outputs": [],
   "source": [
    "#11th grade scores\n",
    "\n",
    "eleventh_grade_score_math =merge_students_schools_df[merge_students_schools_df[\"grade\"] == \"11th\"].groupby(\"school_name\").mean()[\"math_score\"]\n",
    "eleventh_grade_score_math"
   ]
  },
  {
   "cell_type": "code",
   "execution_count": null,
   "metadata": {},
   "outputs": [],
   "source": [
    "#twelveth grade scores\n",
    "twelveth_grade_score_math =merge_students_schools_df[merge_students_schools_df[\"grade\"] == \"12th\"].groupby(\"school_name\").mean()[\"math_score\"]\n",
    "twelveth_grade_score_math"
   ]
  },
  {
   "cell_type": "code",
   "execution_count": null,
   "metadata": {},
   "outputs": [],
   "source": [
    "#create data frame for each school by grade\n",
    "grade_math_summary = pd.DataFrame({\"9th Grade Math Average\": nineth_grade_score_math,\n",
    "                               \"10th Grade Math Average\": tenth_grade_score_math,\n",
    "                              \"11th Grade Math Average\": eleventh_grade_score_math,\n",
    "                              \"12th Grade Math Average\": twelveth_grade_score_math,})\n",
    "grade_math_summary"
   ]
  },
  {
   "cell_type": "code",
   "execution_count": null,
   "metadata": {},
   "outputs": [],
   "source": [
    "nineth_grade_score_reading = merge_students_schools_df[merge_students_schools_df[\"grade\"] == \"9th\"].groupby(\"school_name\").mean()[\"reading_score\"]\n",
    "nineth_grade_score_reading"
   ]
  },
  {
   "cell_type": "code",
   "execution_count": null,
   "metadata": {},
   "outputs": [],
   "source": [
    "\n",
    "tenth_grade_score_reading = merge_students_schools_df[merge_students_schools_df[\"grade\"] == \"10th\"].groupby(\"school_name\").mean()[\"reading_score\"]\n",
    "tenth_grade_score_reading"
   ]
  },
  {
   "cell_type": "code",
   "execution_count": null,
   "metadata": {},
   "outputs": [],
   "source": [
    "eleventh_grade_score_reading =  merge_students_schools_df[merge_students_schools_df[\"grade\"] == \"11th\"].groupby(\"school_name\").mean()[\"reading_score\"]\n",
    "eleventh_grade_score_reading"
   ]
  },
  {
   "cell_type": "code",
   "execution_count": null,
   "metadata": {},
   "outputs": [],
   "source": [
    "twelveth_grade_score_reading = merge_students_schools_df[merge_students_schools_df[\"grade\"] == \"12th\"].groupby(\"school_name\").mean()[\"reading_score\"]\n",
    "twelveth_grade_score_reading\n"
   ]
  },
  {
   "cell_type": "code",
   "execution_count": null,
   "metadata": {},
   "outputs": [],
   "source": [
    "grade_reading_summary = pd.DataFrame({\"9th Grade Reading Average\": nineth_grade_score_reading,\n",
    "                               \"10th Grade Reading Average\": tenth_grade_score_reading,\n",
    "                              \"11th Grade Reading Average\": eleventh_grade_score_reading,\n",
    "                              \"12th Grade Reading\": twelveth_grade_score_reading})\n",
    "\n",
    "grade_reading_summary"
   ]
  },
  {
   "cell_type": "code",
   "execution_count": null,
   "metadata": {},
   "outputs": [],
   "source": [
    "# per student budgets for each school\n",
    "per_student_budgets= school_budgets/per_school_counts\n",
    "bins = [0,584.9,614.9,644.9, 675]\n",
    "labels = [\"<585\",\"585-615\",\"615-645\",\"645-675\"]\n",
    "\n",
    "School_Summary_df[\"Spending Ranges\"] = pd.cut(per_student_budgets,bins,labels=labels)\n",
    "School_Summary_df[\"Spending Ranges\"] = School_Summary_df[\"Spending Ranges\"].astype(str).astype(int)\n",
    "School_Summary_df.head()\n"
   ]
  },
  {
   "cell_type": "code",
   "execution_count": null,
   "metadata": {},
   "outputs": [],
   "source": [
    "spendingmath = School_Summary_df.groupby(\"Spending Ranges\").mean()[\"Average Math Score\"]\n",
    "spendingmath.dtypes"
   ]
  },
  {
   "cell_type": "code",
   "execution_count": null,
   "metadata": {},
   "outputs": [],
   "source": [
    "spendingmathpass = School_Summary_df.groupby(\"Spending Ranges\").mean()[\"% Passing Math\"]\n",
    "spendingmathpass"
   ]
  },
  {
   "cell_type": "code",
   "execution_count": null,
   "metadata": {},
   "outputs": [],
   "source": [
    "spendingreading = School_Summary_df.groupby(\"Spending Ranges\").mean()[\"Average Reading Score\"]\n",
    "spendingreading"
   ]
  },
  {
   "cell_type": "code",
   "execution_count": null,
   "metadata": {},
   "outputs": [],
   "source": [
    "spendingreadpass = School_Summary.groupby(\"Spending Ranges\").mean()[\"% Passing Reading\"]\n",
    "spedningreadpass"
   ]
  },
  {
   "cell_type": "code",
   "execution_count": null,
   "metadata": {},
   "outputs": [],
   "source": [
    "spendingoverallpass = (spendingmath+spendingreading)/2\n",
    "spendingoverallpass"
   ]
  },
  {
   "cell_type": "code",
   "execution_count": null,
   "metadata": {},
   "outputs": [],
   "source": [
    "spending_summary = pd.DataFrame({\n",
    "    \"Average Math Score\": spendingmath,\n",
    "    \"Average Reading Score\": spendingreading,\n",
    "    \"Passing Math\": spendingmathpass,\n",
    "    \"Passing Reading\": spendingreadpass,\n",
    "    \"Passing Overall\": spendingoverallpass})\n",
    "\n",
    "spending_summary"
   ]
  },
  {
   "cell_type": "code",
   "execution_count": null,
   "metadata": {},
   "outputs": [],
   "source": [
    "size_bins = [0, 1000, 2000, 5000]\n",
    "size_ranges = [\"Small (<1000)\", \"Medium (1000-2000)\", \"Large (2000-5000)\"]\n",
    "School_Summary_df[\"School Size\"] = pd.cut(School_Summary_df[\"Total Students\"], size_bins, labels = size_ranges)\n",
    "School_Summary_df[\"School Size\"] = pd.to_numeric(School_Summary_df[\"School Size\"])\n",
    "\n",
    "\n",
    "average_math = School_Summary_df.groupby([\"School Size\"]).mean()[\"Average Math Score\"]"
   ]
  },
  {
   "cell_type": "code",
   "execution_count": null,
   "metadata": {},
   "outputs": [],
   "source": [
    "average_math = School_Summary_df.groupby([\"School Size\"]).mean()[\"Average Math Score\"]"
   ]
  },
  {
   "cell_type": "code",
   "execution_count": null,
   "metadata": {},
   "outputs": [],
   "source": [
    "percent_passing_math =  School_Summary_df.groupby([\"School Size\"]).mean()['% Passing Math']\n",
    "percent_passing_math"
   ]
  },
  {
   "cell_type": "code",
   "execution_count": null,
   "metadata": {},
   "outputs": [],
   "source": [
    "average_reading = School_Summary_df.groupby([\"School Size\"]).mean()['Average Reading Score']\n",
    "average_reading"
   ]
  },
  {
   "cell_type": "code",
   "execution_count": null,
   "metadata": {},
   "outputs": [],
   "source": [
    "percent_passing_reading =  School_Summary_df.groupby([\"School Size\"]).mean()['% Passing Reading']\n",
    "percent_passing_reading"
   ]
  },
  {
   "cell_type": "code",
   "execution_count": null,
   "metadata": {},
   "outputs": [],
   "source": [
    "overall_passing_rate = School_Summary_df.groupby([\"School Size\"]).mean()['Overall Passing Rate']\n",
    "overall_passing_rate"
   ]
  },
  {
   "cell_type": "code",
   "execution_count": null,
   "metadata": {},
   "outputs": [],
   "source": [
    "Size_Score = pd.DataFrame({\"Average Math Score\": average_math, \n",
    "                           \"Average Reading Score\": average_reading,\n",
    "                            \"% Passing Math\": percent_passing_math,\n",
    "                           \"% Passing Reading\": percent_passing_reading,\n",
    "                           \"Overall Passing Rate\": overall_passing_rate})   \n",
    "\n",
    "\n",
    "Size_Score = Size_Score[[\"Average Math Score\", \"Average Reading Score\",\n",
    "                               \"% Passing Math\",\"% Passing Reading\",\"Overall Passing Rate\"]]\n",
    "\n",
    "\n",
    "Size_Score"
   ]
  },
  {
   "cell_type": "code",
   "execution_count": null,
   "metadata": {},
   "outputs": [],
   "source": [
    "average_math = School_Summary_df.groupby([\"School Type\"]).mean()[\"Average Math Score\"]\n",
    "average_math"
   ]
  },
  {
   "cell_type": "code",
   "execution_count": null,
   "metadata": {},
   "outputs": [],
   "source": [
    "average_reading = School_Summary_df.groupby([\"School Type\"]).mean()['Average Reading Score']\n",
    "average_reading"
   ]
  },
  {
   "cell_type": "code",
   "execution_count": null,
   "metadata": {},
   "outputs": [],
   "source": [
    "percent_passing_math =  School_Summary_df.groupby([\"School Type\"]).mean()['% Passing Math']\n",
    "percent_passing_math"
   ]
  },
  {
   "cell_type": "code",
   "execution_count": null,
   "metadata": {},
   "outputs": [],
   "source": [
    "percent_passing_reading =  School_Summary_df.groupby([\"School Type\"]).mean()['% Passing Reading']\n",
    "precent_passing_reading"
   ]
  },
  {
   "cell_type": "code",
   "execution_count": null,
   "metadata": {},
   "outputs": [],
   "source": [
    "overall_passing_rate = School_Summary_df.groupby([\"School Type\"]).mean()['Overall Passing Rate']\n",
    "\n",
    "\n",
    "Type_Score = pd.DataFrame({\"Average Math Score\": average_math, \n",
    "                           \"Average Reading Score\": average_reading,\n",
    "                            \"% Passing Math\": percent_passing_math,\n",
    "                            \"% Passing Reading\": percent_passing_reading,\n",
    "                            \"Overall Passing Rate\": overall_passing_rate})            \n",
    "\n",
    "Type_Score = Type_Score[[\"Average Math Score\", \"Average Reading Score\",\n",
    "                        \"% Passing Math\",\"% Passing Reading\",\n",
    "                         \"Overall Passing Rate\"]]\n",
    "\n",
    "Type_Score"
   ]
  }
 ],
 "metadata": {
  "kernelspec": {
   "display_name": "Python 3",
   "language": "python",
   "name": "python3"
  },
  "language_info": {
   "codemirror_mode": {
    "name": "ipython",
    "version": 3
   },
   "file_extension": ".py",
   "mimetype": "text/x-python",
   "name": "python",
   "nbconvert_exporter": "python",
   "pygments_lexer": "ipython3",
   "version": "3.7.3"
  }
 },
 "nbformat": 4,
 "nbformat_minor": 2
}
